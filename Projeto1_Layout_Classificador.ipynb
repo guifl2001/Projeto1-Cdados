{
 "cells": [
  {
   "cell_type": "markdown",
   "metadata": {},
   "source": [
    "# Projeto 1 - Ciência dos Dados"
   ]
  },
  {
   "cell_type": "markdown",
   "metadata": {},
   "source": [
    "Nome: Guilherme Fontana Louro\n",
    "Nome: Rafael Pascarelli Niccheri"
   ]
  },
  {
   "cell_type": "markdown",
   "metadata": {},
   "source": [
    "Atenção: Serão permitidos grupos de três pessoas, mas com uma rubrica mais exigente. Grupos deste tamanho precisarão fazer um questionário de avaliação de trabalho em equipe"
   ]
  },
  {
   "cell_type": "markdown",
   "metadata": {},
   "source": [
    "___\n",
    "Carregando algumas bibliotecas:"
   ]
  },
  {
   "cell_type": "code",
   "execution_count": 1,
   "metadata": {},
   "outputs": [],
   "source": [
    "%matplotlib inline\n",
    "import pandas as pd\n",
    "import matplotlib.pyplot as plt\n",
    "import numpy as np\n",
    "import os\n",
    "import re"
   ]
  },
  {
   "cell_type": "code",
   "execution_count": 2,
   "metadata": {
    "scrolled": false
   },
   "outputs": [
    {
     "name": "stdout",
     "output_type": "stream",
     "text": [
      "Esperamos trabalhar no diretório\n",
      "/home/guilherme/anaconda3/INSPER/C_dados/Projeto1-Cdados\n"
     ]
    }
   ],
   "source": [
    "print('Esperamos trabalhar no diretório')\n",
    "print(os.getcwd())"
   ]
  },
  {
   "cell_type": "markdown",
   "metadata": {},
   "source": [
    "Carregando a base de dados com os tweets classificados como relevantes e não relevantes:"
   ]
  },
  {
   "cell_type": "code",
   "execution_count": 3,
   "metadata": {},
   "outputs": [],
   "source": [
    "filename = 'ps5.xlsx'"
   ]
  },
  {
   "cell_type": "code",
   "execution_count": 4,
   "metadata": {},
   "outputs": [
    {
     "data": {
      "text/html": [
       "<div>\n",
       "<style scoped>\n",
       "    .dataframe tbody tr th:only-of-type {\n",
       "        vertical-align: middle;\n",
       "    }\n",
       "\n",
       "    .dataframe tbody tr th {\n",
       "        vertical-align: top;\n",
       "    }\n",
       "\n",
       "    .dataframe thead th {\n",
       "        text-align: right;\n",
       "    }\n",
       "</style>\n",
       "<table border=\"1\" class=\"dataframe\">\n",
       "  <thead>\n",
       "    <tr style=\"text-align: right;\">\n",
       "      <th></th>\n",
       "      <th>Treinamento</th>\n",
       "      <th>Relevância</th>\n",
       "    </tr>\n",
       "  </thead>\n",
       "  <tbody>\n",
       "    <tr>\n",
       "      <th>0</th>\n",
       "      <td>@jvpmbr we ahem ruim de usar mesmo, não perde ...</td>\n",
       "      <td>0</td>\n",
       "    </tr>\n",
       "    <tr>\n",
       "      <th>1</th>\n",
       "      <td>@amandaoufer posso falar como imagino vcs?\\nal...</td>\n",
       "      <td>0</td>\n",
       "    </tr>\n",
       "    <tr>\n",
       "      <th>2</th>\n",
       "      <td>@ignbrasil @mariananeryf quando sair o trailer...</td>\n",
       "      <td>1</td>\n",
       "    </tr>\n",
       "    <tr>\n",
       "      <th>3</th>\n",
       "      <td>@arielsis eu comecei jogar yakuza no meu antig...</td>\n",
       "      <td>1</td>\n",
       "    </tr>\n",
       "    <tr>\n",
       "      <th>4</th>\n",
       "      <td>@psonystas esse ae tá meio doido, tá certo iss...</td>\n",
       "      <td>0</td>\n",
       "    </tr>\n",
       "  </tbody>\n",
       "</table>\n",
       "</div>"
      ],
      "text/plain": [
       "                                         Treinamento  Relevância\n",
       "0  @jvpmbr we ahem ruim de usar mesmo, não perde ...           0\n",
       "1  @amandaoufer posso falar como imagino vcs?\\nal...           0\n",
       "2  @ignbrasil @mariananeryf quando sair o trailer...           1\n",
       "3  @arielsis eu comecei jogar yakuza no meu antig...           1\n",
       "4  @psonystas esse ae tá meio doido, tá certo iss...           0"
      ]
     },
     "execution_count": 4,
     "metadata": {},
     "output_type": "execute_result"
    }
   ],
   "source": [
    "train = pd.read_excel(filename)\n",
    "train.head(5)"
   ]
  },
  {
   "cell_type": "code",
   "execution_count": 5,
   "metadata": {},
   "outputs": [
    {
     "data": {
      "text/html": [
       "<div>\n",
       "<style scoped>\n",
       "    .dataframe tbody tr th:only-of-type {\n",
       "        vertical-align: middle;\n",
       "    }\n",
       "\n",
       "    .dataframe tbody tr th {\n",
       "        vertical-align: top;\n",
       "    }\n",
       "\n",
       "    .dataframe thead th {\n",
       "        text-align: right;\n",
       "    }\n",
       "</style>\n",
       "<table border=\"1\" class=\"dataframe\">\n",
       "  <thead>\n",
       "    <tr style=\"text-align: right;\">\n",
       "      <th></th>\n",
       "      <th>Teste</th>\n",
       "      <th>Relevância</th>\n",
       "    </tr>\n",
       "  </thead>\n",
       "  <tbody>\n",
       "    <tr>\n",
       "      <th>0</th>\n",
       "      <td>@rigozfn no ps5 foi 5 gb tô dboa</td>\n",
       "      <td>1</td>\n",
       "    </tr>\n",
       "    <tr>\n",
       "      <th>1</th>\n",
       "      <td>tamanho das atualizações v16.00:\\n\\nnintendo s...</td>\n",
       "      <td>1</td>\n",
       "    </tr>\n",
       "    <tr>\n",
       "      <th>2</th>\n",
       "      <td>@jhukte eita me dá um ps5 \\n\\nque eu faço oq v...</td>\n",
       "      <td>0</td>\n",
       "    </tr>\n",
       "    <tr>\n",
       "      <th>3</th>\n",
       "      <td>@pandaescarlate @brksedu @foioguto caralho, va...</td>\n",
       "      <td>0</td>\n",
       "    </tr>\n",
       "    <tr>\n",
       "      <th>4</th>\n",
       "      <td>hell let loose será lançado para ps5 em 2021 -...</td>\n",
       "      <td>1</td>\n",
       "    </tr>\n",
       "  </tbody>\n",
       "</table>\n",
       "</div>"
      ],
      "text/plain": [
       "                                               Teste  Relevância\n",
       "0                   @rigozfn no ps5 foi 5 gb tô dboa           1\n",
       "1  tamanho das atualizações v16.00:\\n\\nnintendo s...           1\n",
       "2  @jhukte eita me dá um ps5 \\n\\nque eu faço oq v...           0\n",
       "3  @pandaescarlate @brksedu @foioguto caralho, va...           0\n",
       "4  hell let loose será lançado para ps5 em 2021 -...           1"
      ]
     },
     "execution_count": 5,
     "metadata": {},
     "output_type": "execute_result"
    }
   ],
   "source": [
    "test = pd.read_excel(filename, sheet_name = 'Teste')\n",
    "test.head(5)"
   ]
  },
  {
   "cell_type": "markdown",
   "metadata": {},
   "source": [
    "___\n",
    "## Classificador automático de sentimento\n"
   ]
  },
  {
   "cell_type": "markdown",
   "metadata": {},
   "source": [
    "Faça aqui uma descrição do seu produto e o que considerou como relevante ou não relevante na classificação dos tweets.\n",
    "\n",
    "O nosso produto é um console de videogame, em sua versão mais atual. Levamos em consideração para definir a relevância dos tweets quesitos como comentários sobre jogos ou funcionalidades do produto, tanto negativas quanto positivas, além de opiniões sobre quesitos que envolvem as vendas desse produto, como locais de venda, preço e principalmente, disponibilidade."
   ]
  },
  {
   "cell_type": "markdown",
   "metadata": {},
   "source": [
    "___\n",
    "### Montando um Classificador Naive-Bayes\n",
    "\n",
    "Considerando apenas as mensagens da planilha Treinamento, ensine  seu classificador."
   ]
  },
  {
   "cell_type": "code",
   "execution_count": 17,
   "metadata": {},
   "outputs": [],
   "source": [
    "import re \n",
    "\n",
    "\n",
    "def cleanup(text):\n",
    "    punctuation = '[!-.:?;@\\/|#$%&]' # Note que os sinais [] são delimitadores de um conjunto.\n",
    "    pattern = re.compile(punctuation)\n",
    "    text_subbed = re.sub(pattern, '', text)\n",
    "    return text_subbed.lower()\n",
    "  "
   ]
  },
  {
   "cell_type": "code",
   "execution_count": null,
   "metadata": {},
   "outputs": [],
   "source": []
  },
  {
   "cell_type": "code",
   "execution_count": 24,
   "metadata": {},
   "outputs": [],
   "source": [
    "def tweet_count(tweets):\n",
    "    x = 0\n",
    "    palavras_relevantes = []\n",
    "    palavras_irrelevantes = []\n",
    "    while x < len(tweets.Teste):\n",
    "        frase = (cleanup(tweets.Teste[x]))\n",
    "        if tweets.Relevância[x] == 1:\n",
    "            palavras_relevantes.extend(frase.split())\n",
    "        elif tweets.Relevância[x] == 0:\n",
    "            palavras_irrelevantes.extend(frase.split())\n",
    "        x += 1\n",
    "    serie_relevantes = pd.Series(palavras_relevantes)\n",
    "    tabela_relevantes = serie_relevantes.value_counts(True)\n",
    "    serie_irrelevantes = pd.Series(palavras_irrelevantes)\n",
    "    tabela_irrelevantes = serie_irrelevantes.value_counts(True)\n",
    "    return tabela_relevantes, tabela_irrelevantes\n",
    "palavras_relevantes = tweet_count(test)[0]\n",
    "palavras_irrelevantes = tweet_count(test)[1]"
   ]
  },
  {
   "cell_type": "code",
   "execution_count": 25,
   "metadata": {},
   "outputs": [
    {
     "name": "stdout",
     "output_type": "stream",
     "text": [
      "ps5             0.045851\n",
      "o               0.031372\n",
      "e               0.026545\n",
      "de              0.022090\n",
      "que             0.021533\n",
      "                  ...   \n",
      "¯\\_ツ_¯          0.000186\n",
      "bolsonaro       0.000186\n",
      "gasto           0.000186\n",
      "warzoneclips    0.000186\n",
      "havia           0.000186\n",
      "Length: 1820, dtype: float64\n",
      "ps5       0.045889\n",
      "o         0.026386\n",
      "de        0.023901\n",
      "e         0.021033\n",
      "um        0.020268\n",
      "            ...   \n",
      "ja        0.000191\n",
      "mekgg_    0.000191\n",
      "💣         0.000191\n",
      "safe      0.000191\n",
      "algm      0.000191\n",
      "Length: 1919, dtype: float64\n"
     ]
    }
   ],
   "source": [
    "print(palavras_relevantes)\n",
    "print(palavras_irrelevantes)"
   ]
  },
  {
   "cell_type": "code",
   "execution_count": 9,
   "metadata": {},
   "outputs": [
    {
     "name": "stdout",
     "output_type": "stream",
     "text": [
      "[1, 0, 1, 0, 1, 0, 0, 0, 0, 0, 0, 1, 0, 0, 0, 0, 1, 1, 0, 0, 1, 0, 0, 0, 1, 1, 1, 0, 1, 0, 1, 1, 0, 1, 0, 0, 1, 1, 0, 0, 1, 1, 0, 0, 1, 1, 0, 1, 0, 1, 0, 0, 1, 1, 1, 1, 1, 1, 0, 1, 0, 1, 1, 0, 0, 0, 1, 1, 0, 0, 0, 0, 1, 0, 0, 0, 1, 0, 1, 1, 0, 0, 1, 0, 1, 0, 1, 1, 1, 0, 0, 1, 1, 1, 1, 1, 0, 0, 0, 0, 0, 1, 0, 0, 1, 1, 0, 0, 0, 0, 0, 1, 1, 0, 0, 0, 0, 0, 1, 0, 0, 1, 1, 1, 1, 1, 1, 1, 0, 1, 0, 1, 0, 0, 1, 1, 0, 0, 1, 1, 1, 1, 0, 0, 0, 0, 0, 0, 1, 0, 0, 1, 0, 1, 0, 1, 0, 1, 0, 0, 1, 1, 1, 0, 0, 0, 0, 1, 1, 0, 1, 0, 0, 1, 0, 0, 0, 0, 1, 0, 0, 1, 1, 1, 1, 0, 0, 0, 0, 0, 1, 1, 0, 0, 0, 1, 1, 1, 0, 1, 0, 0, 1, 1, 0, 0, 1, 0, 0, 1, 1, 0, 1, 1, 0, 1, 1, 1, 1, 0, 0, 0, 0, 0, 1, 0, 1, 1, 1, 1, 0, 1, 0, 0, 0, 1, 1, 1, 0, 1, 0, 1, 1, 1, 0, 1, 0, 0, 1, 1, 1, 0, 1, 1, 0, 1, 1, 1, 0, 1, 1, 1, 0, 0, 1, 1, 1, 0, 1, 1, 1, 0, 1, 0, 0, 0, 1, 1, 0, 1, 1, 1, 0, 1, 1, 1, 0, 1, 1, 0, 0, 0, 1, 1, 0, 1, 1, 0, 1, 1]\n"
     ]
    }
   ],
   "source": [
    "import statistics\n",
    "def calculator_porcent(frase):\n",
    "    x = 1\n",
    "    frase = (cleanup(frase))\n",
    "    probFraseDado = tabela_palavras[frase.split()[0]]\n",
    "    while x < len(frase.split()):\n",
    "        probFraseDado *= tabela_palavras[frase.split()[x]]\n",
    "        x += 1\n",
    "    return probFraseDado\n",
    "y = 0\n",
    "probFraseDados = []\n",
    "while y < len(train.Treinamento):\n",
    "    probFraseDados.append(calculator_porcent(train.Treinamento[y]))\n",
    "    y += 1\n",
    "mediana = statistics.median(probFraseDados)\n",
    "z = 0\n",
    "Relevânciabot = [0] * 300\n",
    "while z < len(train.Treinamento):\n",
    "    if probFraseDados[z] > mediana:\n",
    "        Relevânciabot[z] = 1\n",
    "    z += 1\n",
    "print(Relevânciabot)"
   ]
  },
  {
   "cell_type": "code",
   "execution_count": 10,
   "metadata": {},
   "outputs": [
    {
     "data": {
      "text/plain": [
       "300"
      ]
     },
     "execution_count": 10,
     "metadata": {},
     "output_type": "execute_result"
    }
   ],
   "source": [
    "len(train.Treinamento)"
   ]
  },
  {
   "cell_type": "markdown",
   "metadata": {},
   "source": [
    "___\n",
    "### Verificando a performance do Classificador\n",
    "\n",
    "Agora você deve testar o seu classificador com a base de Testes."
   ]
  },
  {
   "cell_type": "code",
   "execution_count": 15,
   "metadata": {},
   "outputs": [
    {
     "name": "stdout",
     "output_type": "stream",
     "text": [
      "o valor para o tweet número 0 está errado\n",
      "o valor para o tweet número 3 está errado\n",
      "o valor para o tweet número 4 está errado\n",
      "o valor para o tweet número 5 está errado\n",
      "o valor para o tweet número 6 está errado\n",
      "o valor para o tweet número 8 está errado\n",
      "o valor para o tweet número 10 está errado\n",
      "o valor para o tweet número 11 está errado\n",
      "o valor para o tweet número 12 está errado\n",
      "o valor para o tweet número 17 está errado\n",
      "o valor para o tweet número 18 está errado\n",
      "o valor para o tweet número 19 está errado\n",
      "o valor para o tweet número 21 está errado\n",
      "o valor para o tweet número 24 está errado\n",
      "o valor para o tweet número 25 está errado\n",
      "o valor para o tweet número 27 está errado\n",
      "o valor para o tweet número 30 está errado\n",
      "o valor para o tweet número 32 está errado\n",
      "o valor para o tweet número 34 está errado\n",
      "o valor para o tweet número 39 está errado\n",
      "o valor para o tweet número 42 está errado\n",
      "o valor para o tweet número 45 está errado\n",
      "o valor para o tweet número 47 está errado\n",
      "o valor para o tweet número 51 está errado\n",
      "o valor para o tweet número 56 está errado\n",
      "o valor para o tweet número 58 está errado\n",
      "o valor para o tweet número 59 está errado\n",
      "o valor para o tweet número 61 está errado\n",
      "o valor para o tweet número 62 está errado\n",
      "o valor para o tweet número 65 está errado\n",
      "o valor para o tweet número 66 está errado\n",
      "o valor para o tweet número 67 está errado\n",
      "o valor para o tweet número 70 está errado\n",
      "o valor para o tweet número 72 está errado\n",
      "o valor para o tweet número 76 está errado\n",
      "o valor para o tweet número 81 está errado\n",
      "o valor para o tweet número 84 está errado\n",
      "o valor para o tweet número 85 está errado\n",
      "o valor para o tweet número 87 está errado\n",
      "o valor para o tweet número 88 está errado\n",
      "o valor para o tweet número 90 está errado\n",
      "o valor para o tweet número 92 está errado\n",
      "o valor para o tweet número 93 está errado\n",
      "o valor para o tweet número 94 está errado\n",
      "o valor para o tweet número 99 está errado\n",
      "o valor para o tweet número 101 está errado\n",
      "o valor para o tweet número 104 está errado\n",
      "o valor para o tweet número 106 está errado\n",
      "o valor para o tweet número 107 está errado\n",
      "o valor para o tweet número 109 está errado\n",
      "o valor para o tweet número 111 está errado\n",
      "o valor para o tweet número 118 está errado\n",
      "o valor para o tweet número 121 está errado\n",
      "o valor para o tweet número 122 está errado\n",
      "o valor para o tweet número 123 está errado\n",
      "o valor para o tweet número 124 está errado\n",
      "o valor para o tweet número 125 está errado\n",
      "o valor para o tweet número 127 está errado\n",
      "o valor para o tweet número 128 está errado\n",
      "o valor para o tweet número 129 está errado\n",
      "o valor para o tweet número 131 está errado\n",
      "o valor para o tweet número 132 está errado\n",
      "o valor para o tweet número 134 está errado\n",
      "o valor para o tweet número 135 está errado\n",
      "o valor para o tweet número 136 está errado\n",
      "o valor para o tweet número 138 está errado\n",
      "o valor para o tweet número 139 está errado\n",
      "o valor para o tweet número 140 está errado\n",
      "o valor para o tweet número 141 está errado\n",
      "o valor para o tweet número 145 está errado\n",
      "o valor para o tweet número 147 está errado\n",
      "o valor para o tweet número 148 está errado\n",
      "o valor para o tweet número 152 está errado\n",
      "o valor para o tweet número 156 está errado\n",
      "o valor para o tweet número 163 está errado\n",
      "o valor para o tweet número 165 está errado\n",
      "o valor para o tweet número 170 está errado\n",
      "o valor para o tweet número 172 está errado\n",
      "o valor para o tweet número 175 está errado\n",
      "o valor para o tweet número 176 está errado\n",
      "o valor para o tweet número 177 está errado\n",
      "o valor para o tweet número 180 está errado\n",
      "o valor para o tweet número 184 está errado\n",
      "o valor para o tweet número 186 está errado\n",
      "o valor para o tweet número 187 está errado\n",
      "o valor para o tweet número 188 está errado\n",
      "o valor para o tweet número 189 está errado\n",
      "o valor para o tweet número 191 está errado\n",
      "o valor para o tweet número 192 está errado\n",
      "o valor para o tweet número 195 está errado\n",
      "o valor para o tweet número 198 está errado\n",
      "o valor para o tweet número 201 está errado\n",
      "o valor para o tweet número 204 está errado\n",
      "o valor para o tweet número 205 está errado\n",
      "o valor para o tweet número 208 está errado\n",
      "o valor para o tweet número 210 está errado\n",
      "o valor para o tweet número 211 está errado\n",
      "o valor para o tweet número 214 está errado\n",
      "o valor para o tweet número 215 está errado\n",
      "o valor para o tweet número 216 está errado\n",
      "o valor para o tweet número 218 está errado\n",
      "o valor para o tweet número 220 está errado\n",
      "o valor para o tweet número 223 está errado\n",
      "o valor para o tweet número 224 está errado\n",
      "o valor para o tweet número 226 está errado\n",
      "o valor para o tweet número 228 está errado\n",
      "o valor para o tweet número 230 está errado\n",
      "o valor para o tweet número 231 está errado\n",
      "o valor para o tweet número 232 está errado\n",
      "o valor para o tweet número 236 está errado\n",
      "o valor para o tweet número 237 está errado\n",
      "o valor para o tweet número 238 está errado\n",
      "o valor para o tweet número 240 está errado\n",
      "o valor para o tweet número 245 está errado\n",
      "o valor para o tweet número 249 está errado\n",
      "o valor para o tweet número 250 está errado\n",
      "o valor para o tweet número 253 está errado\n",
      "o valor para o tweet número 254 está errado\n",
      "o valor para o tweet número 257 está errado\n",
      "o valor para o tweet número 261 está errado\n",
      "o valor para o tweet número 263 está errado\n",
      "o valor para o tweet número 265 está errado\n",
      "o valor para o tweet número 266 está errado\n",
      "o valor para o tweet número 267 está errado\n",
      "o valor para o tweet número 272 está errado\n",
      "o valor para o tweet número 273 está errado\n",
      "o valor para o tweet número 275 está errado\n",
      "o valor para o tweet número 277 está errado\n",
      "o valor para o tweet número 279 está errado\n",
      "o valor para o tweet número 280 está errado\n",
      "o valor para o tweet número 281 está errado\n",
      "o valor para o tweet número 282 está errado\n",
      "o valor para o tweet número 283 está errado\n",
      "o valor para o tweet número 289 está errado\n",
      "o valor para o tweet número 294 está errado\n",
      "o valor para o tweet número 296 está errado\n",
      "o valor para o tweet número 298 está errado\n",
      "137\n"
     ]
    }
   ],
   "source": [
    "dados = pd.read_excel('ps5.xlsx')\n",
    "dados\n",
    "dados.dtypes\n",
    "a=dados.to_dict()\n",
    "#print(a)\n",
    "b=list(a['Relevância'])\n",
    "c=list(a['Relevância'].values())\n",
    "corretos = 0\n",
    "incorretos = 0\n",
    "for i in b:\n",
    "    if c[i]!=Relevânciabot[i]:\n",
    "        incorretos += 1\n",
    "        print('o valor para o tweet número',i,'está errado')\n",
    "print(incorretos)"
   ]
  },
  {
   "cell_type": "code",
   "execution_count": 12,
   "metadata": {},
   "outputs": [
    {
     "name": "stdout",
     "output_type": "stream",
     "text": [
      "143\n"
     ]
    }
   ],
   "source": [
    "f = 0\n",
    "r = 0\n",
    "while f < len(train.Relevância):\n",
    "    if train.Relevância[f] == 1:\n",
    "           r +=1\n",
    "    f += 1\n",
    "print(r)"
   ]
  },
  {
   "cell_type": "code",
   "execution_count": null,
   "metadata": {},
   "outputs": [],
   "source": []
  },
  {
   "cell_type": "markdown",
   "metadata": {},
   "source": [
    "___\n",
    "### Concluindo"
   ]
  },
  {
   "cell_type": "code",
   "execution_count": null,
   "metadata": {},
   "outputs": [],
   "source": []
  },
  {
   "cell_type": "code",
   "execution_count": null,
   "metadata": {},
   "outputs": [],
   "source": []
  },
  {
   "cell_type": "code",
   "execution_count": null,
   "metadata": {},
   "outputs": [],
   "source": []
  },
  {
   "cell_type": "markdown",
   "metadata": {},
   "source": [
    "___\n",
    "### Qualidade do Classificador a partir de novas separações dos tweets entre Treinamento e Teste\n",
    "\n",
    "Caso for fazer esse item do Projeto"
   ]
  },
  {
   "cell_type": "code",
   "execution_count": null,
   "metadata": {},
   "outputs": [],
   "source": []
  },
  {
   "cell_type": "code",
   "execution_count": null,
   "metadata": {},
   "outputs": [],
   "source": []
  },
  {
   "cell_type": "code",
   "execution_count": null,
   "metadata": {},
   "outputs": [],
   "source": []
  },
  {
   "cell_type": "markdown",
   "metadata": {},
   "source": [
    "___\n",
    "## Aperfeiçoamento:\n",
    "\n",
    "Os trabalhos vão evoluir em conceito dependendo da quantidade de itens avançados:\n",
    "\n",
    "* Limpar: \\n, :, \", ', (, ), etc SEM remover emojis\n",
    "* Corrigir separação de espaços entre palavras e emojis ou entre emojis e emojis\n",
    "* Propor outras limpezas e transformações que não afetem a qualidade da informação ou classificação\n",
    "* Criar categorias intermediárias de relevância baseadas na probabilidade: ex.: muito relevante, relevante, neutro, irrelevante, muito irrelevante (3 categorias: C, mais categorias conta para B)\n",
    "* Explicar por que não posso usar o próprio classificador para gerar mais amostras de treinamento\n",
    "* Propor diferentes cenários para Naïve Bayes fora do contexto do projeto\n",
    "* Sugerir e explicar melhorias reais com indicações concretas de como implementar (indicar como fazer e indicar material de pesquisa)\n"
   ]
  },
  {
   "cell_type": "markdown",
   "metadata": {},
   "source": [
    "___\n",
    "## Referências"
   ]
  },
  {
   "cell_type": "markdown",
   "metadata": {},
   "source": [
    "[Naive Bayes and Text Classification](https://arxiv.org/pdf/1410.5329.pdf)  **Mais completo**\n",
    "\n",
    "[A practical explanation of a Naive Bayes Classifier](https://monkeylearn.com/blog/practical-explanation-naive-bayes-classifier/) **Mais simples**"
   ]
  },
  {
   "cell_type": "code",
   "execution_count": null,
   "metadata": {},
   "outputs": [],
   "source": []
  }
 ],
 "metadata": {
  "kernelspec": {
   "display_name": "Python 3",
   "language": "python",
   "name": "python3"
  },
  "language_info": {
   "codemirror_mode": {
    "name": "ipython",
    "version": 3
   },
   "file_extension": ".py",
   "mimetype": "text/x-python",
   "name": "python",
   "nbconvert_exporter": "python",
   "pygments_lexer": "ipython3",
   "version": "3.8.3"
  }
 },
 "nbformat": 4,
 "nbformat_minor": 4
}
