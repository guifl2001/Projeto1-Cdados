{
 "cells": [
  {
   "cell_type": "markdown",
   "metadata": {},
   "source": [
    "# Projeto 1 - Ciência dos Dados"
   ]
  },
  {
   "cell_type": "markdown",
   "metadata": {},
   "source": [
    "Nome: Guilherme Fontana Louro\n",
    "Nome: Rafael Pascarelli Niccheri"
   ]
  },
  {
   "cell_type": "markdown",
   "metadata": {},
   "source": [
    "Atenção: Serão permitidos grupos de três pessoas, mas com uma rubrica mais exigente. Grupos deste tamanho precisarão fazer um questionário de avaliação de trabalho em equipe"
   ]
  },
  {
   "cell_type": "markdown",
   "metadata": {},
   "source": [
    "___\n",
    "Carregando algumas bibliotecas:"
   ]
  },
  {
   "cell_type": "code",
   "execution_count": 1,
   "metadata": {},
   "outputs": [],
   "source": [
    "%matplotlib inline\n",
    "import pandas as pd\n",
    "import matplotlib.pyplot as plt\n",
    "import numpy as np\n",
    "import os\n",
    "import re"
   ]
  },
  {
   "cell_type": "code",
   "execution_count": 2,
   "metadata": {
    "scrolled": false
   },
   "outputs": [
    {
     "name": "stdout",
     "output_type": "stream",
     "text": [
      "Esperamos trabalhar no diretório\n",
      "/home/guilherme/anaconda3/INSPER/C_dados/Projeto1-Cdados\n"
     ]
    }
   ],
   "source": [
    "print('Esperamos trabalhar no diretório')\n",
    "print(os.getcwd())"
   ]
  },
  {
   "cell_type": "markdown",
   "metadata": {},
   "source": [
    "Carregando a base de dados com os tweets classificados como relevantes e não relevantes:"
   ]
  },
  {
   "cell_type": "code",
   "execution_count": 3,
   "metadata": {},
   "outputs": [],
   "source": [
    "filename = 'ps5.xlsx'"
   ]
  },
  {
   "cell_type": "code",
   "execution_count": 4,
   "metadata": {},
   "outputs": [
    {
     "data": {
      "text/html": [
       "<div>\n",
       "<style scoped>\n",
       "    .dataframe tbody tr th:only-of-type {\n",
       "        vertical-align: middle;\n",
       "    }\n",
       "\n",
       "    .dataframe tbody tr th {\n",
       "        vertical-align: top;\n",
       "    }\n",
       "\n",
       "    .dataframe thead th {\n",
       "        text-align: right;\n",
       "    }\n",
       "</style>\n",
       "<table border=\"1\" class=\"dataframe\">\n",
       "  <thead>\n",
       "    <tr style=\"text-align: right;\">\n",
       "      <th></th>\n",
       "      <th>Treinamento</th>\n",
       "      <th>Relevância</th>\n",
       "    </tr>\n",
       "  </thead>\n",
       "  <tbody>\n",
       "    <tr>\n",
       "      <th>0</th>\n",
       "      <td>@jvpmbr we ahem ruim de usar mesmo, não perde ...</td>\n",
       "      <td>0</td>\n",
       "    </tr>\n",
       "    <tr>\n",
       "      <th>1</th>\n",
       "      <td>@amandaoufer posso falar como imagino vcs?\\nal...</td>\n",
       "      <td>0</td>\n",
       "    </tr>\n",
       "    <tr>\n",
       "      <th>2</th>\n",
       "      <td>@ignbrasil @mariananeryf quando sair o trailer...</td>\n",
       "      <td>1</td>\n",
       "    </tr>\n",
       "    <tr>\n",
       "      <th>3</th>\n",
       "      <td>@arielsis eu comecei jogar yakuza no meu antig...</td>\n",
       "      <td>1</td>\n",
       "    </tr>\n",
       "    <tr>\n",
       "      <th>4</th>\n",
       "      <td>@psonystas esse ae tá meio doido, tá certo iss...</td>\n",
       "      <td>0</td>\n",
       "    </tr>\n",
       "  </tbody>\n",
       "</table>\n",
       "</div>"
      ],
      "text/plain": [
       "                                         Treinamento  Relevância\n",
       "0  @jvpmbr we ahem ruim de usar mesmo, não perde ...           0\n",
       "1  @amandaoufer posso falar como imagino vcs?\\nal...           0\n",
       "2  @ignbrasil @mariananeryf quando sair o trailer...           1\n",
       "3  @arielsis eu comecei jogar yakuza no meu antig...           1\n",
       "4  @psonystas esse ae tá meio doido, tá certo iss...           0"
      ]
     },
     "execution_count": 4,
     "metadata": {},
     "output_type": "execute_result"
    }
   ],
   "source": [
    "train = pd.read_excel(filename)\n",
    "train.head(5)"
   ]
  },
  {
   "cell_type": "code",
   "execution_count": 5,
   "metadata": {},
   "outputs": [
    {
     "data": {
      "text/html": [
       "<div>\n",
       "<style scoped>\n",
       "    .dataframe tbody tr th:only-of-type {\n",
       "        vertical-align: middle;\n",
       "    }\n",
       "\n",
       "    .dataframe tbody tr th {\n",
       "        vertical-align: top;\n",
       "    }\n",
       "\n",
       "    .dataframe thead th {\n",
       "        text-align: right;\n",
       "    }\n",
       "</style>\n",
       "<table border=\"1\" class=\"dataframe\">\n",
       "  <thead>\n",
       "    <tr style=\"text-align: right;\">\n",
       "      <th></th>\n",
       "      <th>Teste</th>\n",
       "      <th>Relevância</th>\n",
       "    </tr>\n",
       "  </thead>\n",
       "  <tbody>\n",
       "    <tr>\n",
       "      <th>0</th>\n",
       "      <td>@rigozfn no ps5 foi 5 gb tô dboa</td>\n",
       "      <td>1</td>\n",
       "    </tr>\n",
       "    <tr>\n",
       "      <th>1</th>\n",
       "      <td>tamanho das atualizações v16.00:\\n\\nnintendo s...</td>\n",
       "      <td>1</td>\n",
       "    </tr>\n",
       "    <tr>\n",
       "      <th>2</th>\n",
       "      <td>@jhukte eita me dá um ps5 \\n\\nque eu faço oq v...</td>\n",
       "      <td>0</td>\n",
       "    </tr>\n",
       "    <tr>\n",
       "      <th>3</th>\n",
       "      <td>@pandaescarlate @brksedu @foioguto caralho, va...</td>\n",
       "      <td>0</td>\n",
       "    </tr>\n",
       "    <tr>\n",
       "      <th>4</th>\n",
       "      <td>hell let loose será lançado para ps5 em 2021 -...</td>\n",
       "      <td>1</td>\n",
       "    </tr>\n",
       "  </tbody>\n",
       "</table>\n",
       "</div>"
      ],
      "text/plain": [
       "                                               Teste  Relevância\n",
       "0                   @rigozfn no ps5 foi 5 gb tô dboa           1\n",
       "1  tamanho das atualizações v16.00:\\n\\nnintendo s...           1\n",
       "2  @jhukte eita me dá um ps5 \\n\\nque eu faço oq v...           0\n",
       "3  @pandaescarlate @brksedu @foioguto caralho, va...           0\n",
       "4  hell let loose será lançado para ps5 em 2021 -...           1"
      ]
     },
     "execution_count": 5,
     "metadata": {},
     "output_type": "execute_result"
    }
   ],
   "source": [
    "test = pd.read_excel(filename, sheet_name = 'Teste')\n",
    "test.head(5)"
   ]
  },
  {
   "cell_type": "markdown",
   "metadata": {},
   "source": [
    "___\n",
    "## Classificador automático de sentimento\n"
   ]
  },
  {
   "cell_type": "markdown",
   "metadata": {},
   "source": [
    "Faça aqui uma descrição do seu produto e o que considerou como relevante ou não relevante na classificação dos tweets.\n",
    "\n",
    "O nosso produto é um console de videogame, em sua versão mais atual. Levamos em consideração para definir a relevância dos tweets quesitos como comentários sobre jogos ou funcionalidades do produto, tanto negativas quanto positivas, além de opiniões sobre quesitos que envolvem as vendas desse produto, como locais de venda, preço e principalmente, disponibilidade."
   ]
  },
  {
   "cell_type": "markdown",
   "metadata": {},
   "source": [
    "___\n",
    "### Montando um Classificador Naive-Bayes\n",
    "\n",
    "Considerando apenas as mensagens da planilha Treinamento, ensine  seu classificador."
   ]
  },
  {
   "cell_type": "code",
   "execution_count": 6,
   "metadata": {},
   "outputs": [],
   "source": [
    "import re\n",
    "import emoji\n",
    "import functools\n",
    "import operator\n",
    "\n",
    "\n",
    "def cleanup(text):\n",
    "    punctuation = '[!-.:?;@\\/|#$%&]' # Note que os sinais [] são delimitadores de um conjunto.\n",
    "    pattern = re.compile(punctuation)\n",
    "    text_subbed = re.sub(pattern, '', text).lower()\n",
    "    text_split_emoji = emoji.get_emoji_regexp().split(text_subbed)\n",
    "    text_split_whitespace = [substr.split() for substr in text_split_emoji]\n",
    "    text_split = functools.reduce(operator.concat, text_split_whitespace)\n",
    "    return text_split\n"
   ]
  },
  {
   "cell_type": "code",
   "execution_count": 7,
   "metadata": {},
   "outputs": [],
   "source": [
    "def tweet_count(tweets):\n",
    "    x = 0\n",
    "    palavras_relevantes = []\n",
    "    palavras_irrelevantes = []\n",
    "    while x < len(tweets.Teste):\n",
    "        frase = (cleanup(tweets.Teste[x]))\n",
    "        if tweets.Relevância[x] == 1:\n",
    "            palavras_relevantes.extend(frase)\n",
    "        elif tweets.Relevância[x] == 0:\n",
    "            palavras_irrelevantes.extend(frase)\n",
    "        x += 1\n",
    "    serie_relevantes = pd.Series(palavras_relevantes)\n",
    "    tabela_relevantes = serie_relevantes.value_counts()\n",
    "    serie_irrelevantes = pd.Series(palavras_irrelevantes)\n",
    "    tabela_irrelevantes = serie_irrelevantes.value_counts()\n",
    "    return tabela_relevantes, tabela_irrelevantes\n",
    "palavras_relevantes = tweet_count(test)[0]\n",
    "palavras_irrelevantes = tweet_count(test)[1]\n",
    "palavras = palavras_relevantes + palavras_irrelevantes"
   ]
  },
  {
   "cell_type": "code",
   "execution_count": 8,
   "metadata": {},
   "outputs": [
    {
     "name": "stdout",
     "output_type": "stream",
     "text": [
      "ps5               248\n",
      "o                 169\n",
      "e                 143\n",
      "de                119\n",
      "que               116\n",
      "                 ... \n",
      "cesaresn            1\n",
      "entretenimento      1\n",
      "perco               1\n",
      "xboxtruepower       1\n",
      "momentos            1\n",
      "Length: 1825, dtype: int64\n",
      "5415\n",
      "ps5                   242\n",
      "o                     138\n",
      "de                    125\n",
      "e                     110\n",
      "um                    106\n",
      "                     ... \n",
      "httpstcoh0prufoumk      1\n",
      "👊                       1\n",
      "bonito                  1\n",
      "highlights              1\n",
      "comprando               1\n",
      "Length: 1914, dtype: int64\n",
      "3063\n"
     ]
    }
   ],
   "source": [
    "print(palavras_relevantes)\n",
    "print(palavras_relevantes.sum())\n",
    "print(palavras_irrelevantes)\n",
    "print(len(palavras))"
   ]
  },
  {
   "cell_type": "code",
   "execution_count": 9,
   "metadata": {},
   "outputs": [],
   "source": [
    "def calculator_porcent(frase):\n",
    "    x = 0\n",
    "    frase = (cleanup(frase))\n",
    "    probFraseRelevante = 1\n",
    "    probFraseIrrelevante = 1\n",
    "    while x < len(frase):\n",
    "        if frase[x] in palavras_relevantes:\n",
    "            probFraseRelevante *= (palavras_relevantes[frase[x]] + 1) / (palavras_relevantes.sum() + len(palavras))\n",
    "        elif frase[x] not in palavras_relevantes:\n",
    "            probFraseRelevante *= 1 / (palavras_relevantes.sum() + len(palavras))\n",
    "        if frase[x] in palavras_irrelevantes:\n",
    "            probFraseIrrelevante *= (palavras_irrelevantes[frase[x]] + 1) / (palavras_irrelevantes.sum() + len(palavras))\n",
    "        elif frase[x] not in palavras_irrelevantes:\n",
    "            probFraseIrrelevante *= 1 / (palavras_irrelevantes.sum() + len(palavras))\n",
    "        x += 1\n",
    "    return probFraseRelevante, probFraseIrrelevante"
   ]
  },
  {
   "cell_type": "code",
   "execution_count": 10,
   "metadata": {},
   "outputs": [
    {
     "name": "stdout",
     "output_type": "stream",
     "text": [
      "[1, 1, 0, 0, 1, 1, 1, 0, 0, 0, 1, 1, 1, 0, 0, 1, 0, 1, 1, 1, 0, 0, 0, 1, 0, 0, 0, 1, 0, 0, 0, 1, 0, 0, 0, 1, 0, 0, 0, 1, 0, 1, 0, 0, 0, 0, 0, 1, 1, 0, 0, 1, 0, 1, 1, 1, 1, 1, 0, 1, 1, 0, 0, 0, 0, 1, 1, 1, 0, 1, 1, 0, 0, 0, 1, 0, 0, 1, 0, 1, 1, 0, 0, 0, 1, 1, 1, 1, 0, 0, 0, 0, 0, 0, 0, 0, 0, 1, 0, 0, 0, 0, 0, 0, 0, 1, 0, 0, 0, 0, 0, 0, 0, 1, 1, 0, 1, 0, 0, 1, 0, 0, 1, 1, 1, 0, 0, 1, 0, 1, 0, 1, 1, 0, 0, 1, 0, 1, 0, 0, 0, 1, 0, 0, 1, 0, 1, 1, 1, 1, 0, 1, 0, 0, 0, 0, 0, 1, 0, 1, 1, 0, 1, 0, 1, 0, 1, 1, 0, 1, 0, 1, 0, 0, 0, 0, 0, 0, 0, 1, 1, 0, 0, 0, 0, 1, 0, 1, 0, 1, 0, 0, 1, 1, 1, 1, 1, 1, 0, 0, 0, 1, 0, 0, 1, 1, 1, 0, 1, 1, 0, 1, 1, 0, 1, 1, 1, 1, 0, 0, 1, 1, 1, 0, 0, 0, 1, 1, 0, 1, 1, 0, 1, 0, 0, 0, 0, 0, 1, 1, 0, 0, 0, 0, 0, 0, 1, 1, 1, 0, 0, 1, 1, 1, 0, 1, 1, 0, 1, 0, 1, 0, 0, 1, 0, 0, 0, 0, 0, 1, 0, 0, 0, 1, 1, 0, 1, 0, 1, 1, 0, 0, 1, 1, 0, 1, 1, 1, 1, 1, 1, 1, 0, 1, 1, 1, 0, 1, 1, 1, 1, 1, 0, 1, 1, 1, 0, 1, 0, 0, 1, 1, 0, 0, 1, 0, 1, 0, 1, 1, 0, 0, 0, 0, 1, 1, 1, 0, 0, 1, 0, 0, 0, 1, 0, 0, 1, 0, 1, 0, 0, 1, 1, 0, 1, 1, 0, 0, 0, 1, 0, 0, 0, 0, 0, 1, 1, 1, 0, 0, 1, 1, 1, 0, 0, 0, 0, 1, 0, 1, 0, 1, 0, 1, 1, 0, 1, 1, 1, 0, 1, 1, 0, 0, 1, 0, 1, 1, 0, 1, 0, 1, 0, 0, 0, 1, 0, 1, 1, 1, 1, 0, 0, 0, 0, 0, 1, 1, 1, 1, 0, 0, 1, 0, 0, 1, 1, 0, 0, 1, 1, 1, 1, 1, 1, 1, 1, 1, 0, 1, 1, 1, 1, 0, 0, 1, 1, 0, 1, 1, 1, 0, 0, 1, 1, 1, 0, 0, 0, 0, 1, 1, 1, 0, 1, 1, 0, 1, 1, 0, 1, 1, 1, 1, 0, 0, 0, 0, 1, 0, 1, 1, 1, 1, 1, 1, 1, 0, 1, 1, 0, 0, 1, 1, 1, 1, 1, 0, 1, 1, 1, 0, 1, 1, 1, 1, 1, 1, 0]\n"
     ]
    }
   ],
   "source": [
    "y = 0\n",
    "probRelevante = []\n",
    "probIrrelevante = []\n",
    "while y < len(test.Teste):\n",
    "    probRelevante.append(calculator_porcent(test.Teste[y])[0])\n",
    "    probIrrelevante.append(calculator_porcent(test.Teste[y])[1])\n",
    "    y += 1\n",
    "z = 0\n",
    "Relevânciabot = [0] * len(test)\n",
    "while z < len(test.Teste):\n",
    "    if probRelevante[z] > probIrrelevante[z]:\n",
    "        Relevânciabot[z] = 1\n",
    "    z += 1\n",
    "print(Relevânciabot)"
   ]
  },
  {
   "cell_type": "code",
   "execution_count": 11,
   "metadata": {},
   "outputs": [],
   "source": [
    "test['bot'] = Relevânciabot"
   ]
  },
  {
   "cell_type": "markdown",
   "metadata": {},
   "source": [
    "___\n",
    "### Verificando a performance do Classificador\n",
    "\n",
    "Agora você deve testar o seu classificador com a base de Testes."
   ]
  },
  {
   "cell_type": "code",
   "execution_count": 12,
   "metadata": {},
   "outputs": [
    {
     "data": {
      "text/html": [
       "<div>\n",
       "<style scoped>\n",
       "    .dataframe tbody tr th:only-of-type {\n",
       "        vertical-align: middle;\n",
       "    }\n",
       "\n",
       "    .dataframe tbody tr th {\n",
       "        vertical-align: top;\n",
       "    }\n",
       "\n",
       "    .dataframe thead th {\n",
       "        text-align: right;\n",
       "    }\n",
       "</style>\n",
       "<table border=\"1\" class=\"dataframe\">\n",
       "  <thead>\n",
       "    <tr style=\"text-align: right;\">\n",
       "      <th>Relevância</th>\n",
       "      <th>0</th>\n",
       "      <th>1</th>\n",
       "    </tr>\n",
       "    <tr>\n",
       "      <th>bot</th>\n",
       "      <th></th>\n",
       "      <th></th>\n",
       "    </tr>\n",
       "  </thead>\n",
       "  <tbody>\n",
       "    <tr>\n",
       "      <th>0</th>\n",
       "      <td>243</td>\n",
       "      <td>6</td>\n",
       "    </tr>\n",
       "    <tr>\n",
       "      <th>1</th>\n",
       "      <td>11</td>\n",
       "      <td>239</td>\n",
       "    </tr>\n",
       "  </tbody>\n",
       "</table>\n",
       "</div>"
      ],
      "text/plain": [
       "Relevância    0    1\n",
       "bot                 \n",
       "0           243    6\n",
       "1            11  239"
      ]
     },
     "execution_count": 12,
     "metadata": {},
     "output_type": "execute_result"
    }
   ],
   "source": [
    "acertos = test[\"Relevância\"] == test[\"bot\"]\n",
    "test[\"Acertos\"] = acertos\n",
    "pd.crosstab(test[\"Relevância\"], test[\"bot\"], normalize='columns')\n",
    "pd.crosstab(test.bot,test.Relevância)"
   ]
  },
  {
   "cell_type": "code",
   "execution_count": 13,
   "metadata": {},
   "outputs": [],
   "source": [
    "verdadeiro_negativo = 243 / 254 * 100\n",
    "falso_negativo = 6 / 245 * 100\n",
    "verdadeiro_positivo = 239 / 245 * 100\n",
    "falso_positivo = 11 / 254 * 100"
   ]
  },
  {
   "cell_type": "code",
   "execution_count": 15,
   "metadata": {},
   "outputs": [
    {
     "name": "stdout",
     "output_type": "stream",
     "text": [
      "menssagens irrelevantes classificadas como relevantes: 4.330708661417323%\n",
      "menssagens relevantes classificadas como irrelevantes: 2.4489795918367347%\n",
      "menssagens irrelevantes classificadas como irrelevantes: 95.66929133858267%\n",
      "menssagens relevantes classificadas como relevantes: 97.55102040816327%\n"
     ]
    }
   ],
   "source": [
    "print('menssagens irrelevantes classificadas como relevantes: {}%' .format(falso_positivo))\n",
    "print('menssagens relevantes classificadas como irrelevantes: {}%' .format(falso_negativo))\n",
    "print('menssagens irrelevantes classificadas como irrelevantes: {}%' .format(verdadeiro_negativo))\n",
    "print('menssagens relevantes classificadas como relevantes: {}%' .format(verdadeiro_positivo))"
   ]
  },
  {
   "cell_type": "markdown",
   "metadata": {},
   "source": [
    "___\n",
    "### Concluindo"
   ]
  },
  {
   "cell_type": "markdown",
   "metadata": {},
   "source": [
    "A qualidade do classificador fica explicitada pela porcentagem de acertos dos verdadeiros positivos e verdadeiros negativos, de respectivamente 97,6 % e 95,7 %. Grande parte dos erros são causados por frases de dupla negação ou sarcasmo, pois estas utilizam de palavras normalmente relevantes para criticar irrelevantemente o objeto de estudo, gerando falsos positivos, ou ainda utilizando palavras relacionadas normalmente irrelevantes para comentar sobre a qualidade do produto, gerando falsos negativos."
   ]
  },
  {
   "cell_type": "markdown",
   "metadata": {},
   "source": [
    "Para melhorarmos ainda mais o projeto, deveríamos ampliar a quantidade de tweets classificados na base de testes, aprimorando ainda mais a database de palavras relevantes e irrelevantes. Com mais tempo para aperfeiçoar o projeto, podemos ainda definir emojis que retratem sentimentos mais relevantes e aumentarmos assim o valor de frases com esses, além de testar implementações mais complexas do classficador Naive Bayes."
   ]
  },
  {
   "cell_type": "markdown",
   "metadata": {},
   "source": [
    "ITEM EXTRA: Explicar por que não posso usar o próprio classificador para gerar mais amostras de treinamento\n",
    "\n",
    "RESPOSTA: Não podemos usar o próprio classificador para gerar mais amostras de treinamento porque neste caso as amostras seriam provavelmente frases sem sentido devido a aleatoriedade de suas formações. Além desse fator capital, outro ponto relevante envolve o número limitado de palavras da database, que causariam a falta de vocabulário necessário para criar um número considerável de novas amostras."
   ]
  },
  {
   "cell_type": "markdown",
   "metadata": {},
   "source": [
    "ITEM EXTRA: Sugerir e explicar melhorias reais no classificador com indicações concretas de como implementar (não é preciso codificar, mas indicar como fazer. Indique material de pesquisa sobre o assunto).\n",
    "\n",
    "RESPOSTA: Assim como sugerido no plano de expansão acima, o projeto de definir emojis mais relevantes seria possível utilizando-se de uma database de emojis bons e ruins, que seriam responsáveis por aumentar ou diminuir o valor de relevância ou irrelevância de determinada frase.\n",
    "Outra possível ideia envolve a diminuição do número de falsos positivos ou falsos negativos no projeto utilizando da análise de uma curva característica de operação do receptor ou ROC curve, que fornece ferramentas para selecionar modelos mais ideais e desconsiderar modelos mais fracos. Segue links encontrados sobre a ROC curve:\n",
    "\n",
    "- https://scikit-learn.org/stable/auto_examples/model_selection/plot_roc.html\n",
    "- https://medium.com/hugo-ferreiras-blog/confusion-matrix-and-other-metrics-in-machine-learning-894688cb1c0a"
   ]
  },
  {
   "cell_type": "markdown",
   "metadata": {},
   "source": [
    "___\n",
    "### Qualidade do Classificador a partir de novas separações dos tweets entre Treinamento e Teste\n",
    "\n",
    "Caso for fazer esse item do Projeto"
   ]
  },
  {
   "cell_type": "code",
   "execution_count": null,
   "metadata": {},
   "outputs": [],
   "source": []
  },
  {
   "cell_type": "code",
   "execution_count": null,
   "metadata": {},
   "outputs": [],
   "source": []
  },
  {
   "cell_type": "code",
   "execution_count": null,
   "metadata": {},
   "outputs": [],
   "source": []
  },
  {
   "cell_type": "markdown",
   "metadata": {},
   "source": [
    "___\n",
    "## Aperfeiçoamento:\n",
    "\n",
    "Os trabalhos vão evoluir em conceito dependendo da quantidade de itens avançados:\n",
    "\n",
    "* Limpar: \\n, :, \", ', (, ), etc SEM remover emojis\n",
    "* Corrigir separação de espaços entre palavras e emojis ou entre emojis e emojis\n",
    "* Propor outras limpezas e transformações que não afetem a qualidade da informação ou classificação\n",
    "* Criar categorias intermediárias de relevância baseadas na probabilidade: ex.: muito relevante, relevante, neutro, irrelevante, muito irrelevante (3 categorias: C, mais categorias conta para B)\n",
    "* Explicar por que não posso usar o próprio classificador para gerar mais amostras de treinamento\n",
    "* Propor diferentes cenários para Naïve Bayes fora do contexto do projeto\n",
    "* Sugerir e explicar melhorias reais com indicações concretas de como implementar (indicar como fazer e indicar material de pesquisa)\n"
   ]
  },
  {
   "cell_type": "markdown",
   "metadata": {},
   "source": [
    "___\n",
    "## Referências"
   ]
  },
  {
   "cell_type": "markdown",
   "metadata": {},
   "source": [
    "[Naive Bayes and Text Classification](https://arxiv.org/pdf/1410.5329.pdf)  **Mais completo**\n",
    "\n",
    "[A practical explanation of a Naive Bayes Classifier](https://monkeylearn.com/blog/practical-explanation-naive-bayes-classifier/) **Mais simples**"
   ]
  },
  {
   "cell_type": "code",
   "execution_count": null,
   "metadata": {},
   "outputs": [],
   "source": []
  }
 ],
 "metadata": {
  "kernelspec": {
   "display_name": "Python 3",
   "language": "python",
   "name": "python3"
  },
  "language_info": {
   "codemirror_mode": {
    "name": "ipython",
    "version": 3
   },
   "file_extension": ".py",
   "mimetype": "text/x-python",
   "name": "python",
   "nbconvert_exporter": "python",
   "pygments_lexer": "ipython3",
   "version": "3.8.3"
  }
 },
 "nbformat": 4,
 "nbformat_minor": 4
}
